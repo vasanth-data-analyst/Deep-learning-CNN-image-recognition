{
 "cells": [
  {
   "cell_type": "markdown",
   "id": "a2352da7",
   "metadata": {
    "id": "eLRtt2cgcQ12"
   },
   "source": [
    "**Import the required Libraries**"
   ]
  },
  {
   "cell_type": "code",
   "execution_count": 2,
   "id": "da255d32",
   "metadata": {
    "id": "SVwVxp_CBews"
   },
   "outputs": [],
   "source": [
    "import tensorflow as tensorflow"
   ]
  },
  {
   "cell_type": "code",
   "execution_count": 3,
   "id": "a9b120c9",
   "metadata": {
    "id": "Cy950SHKBjIc"
   },
   "outputs": [],
   "source": [
    "from tensorflow.keras.preprocessing.image import ImageDataGenerator "
   ]
  },
  {
   "cell_type": "code",
   "execution_count": 4,
   "id": "19f01a5c",
   "metadata": {
    "id": "oZRPqU9iG9uz"
   },
   "outputs": [],
   "source": [
    "from tensorflow import keras"
   ]
  },
  {
   "cell_type": "code",
   "execution_count": 5,
   "id": "10b53fc0",
   "metadata": {
    "id": "uhALHRZDGJrM"
   },
   "outputs": [],
   "source": [
    "from tensorflow.keras.models import Sequential"
   ]
  },
  {
   "cell_type": "code",
   "execution_count": 6,
   "id": "41b3f7bd",
   "metadata": {
    "id": "kqXEKhuCGzUJ"
   },
   "outputs": [],
   "source": [
    "from tensorflow.keras.layers import Dense, Conv2D, Flatten, Dropout, MaxPooling2D, Activation"
   ]
  },
  {
   "cell_type": "code",
   "execution_count": 7,
   "id": "de1ba64c",
   "metadata": {
    "id": "jS9WdxwaG_04"
   },
   "outputs": [],
   "source": [
    "from tensorflow.keras.preprocessing import image"
   ]
  },
  {
   "cell_type": "code",
   "execution_count": 38,
   "id": "9ae516f1",
   "metadata": {
    "id": "d7vodZreTlCe"
   },
   "outputs": [],
   "source": [
    "img_width, img_height = 150,150\n",
    "\n",
    "train_data_dir = r\"C:\\Users\\victo\\Downloads\\training_set (2)\\training_set\\training_set\"\n",
    "test_data_dir=r\"C:\\Users\\victo\\Downloads\\test_set (2)\\test_set\\test_set\"\n",
    "\n",
    "nb_train_sample =100\n",
    "nb_validation_samples =100\n",
    "epochs =20\n",
    "batch_size= 20"
   ]
  },
  {
   "cell_type": "markdown",
   "id": "ec866157",
   "metadata": {
    "id": "sv130D5_ddDk"
   },
   "source": [
    "**Check for Channels first and rescale the images also convert them to binary**"
   ]
  },
  {
   "cell_type": "code",
   "execution_count": 47,
   "id": "207f7a1e",
   "metadata": {
    "colab": {
     "base_uri": "https://localhost:8080/"
    },
    "id": "SP8ynFBlTlCo",
    "outputId": "7fe19a39-8a91-4abb-8e44-e236c3713460"
   },
   "outputs": [
    {
     "name": "stdout",
     "output_type": "stream",
     "text": [
      "Found 8005 images belonging to 2 classes.\n",
      "Found 1224 images belonging to 2 classes.\n"
     ]
    }
   ],
   "source": [
    "import tensorflow.keras.backend as k\n",
    "\n",
    "if k.image_data_format()=='channels_first': # whether this is RGB or not\n",
    "    input_shape=(3, img_width, img_height)\n",
    "else:\n",
    "    input_shape=(img_width,img_height,3)\n",
    "\n",
    "#resacling imahes 0 to 1 normalization data\n",
    "\n",
    "train_datagen=ImageDataGenerator ( rescale=1. /255,shear_range =0.2,\n",
    "                                  zoom_range=0.2,\n",
    "                                  horizontal_flip =True)\n",
    "\n",
    "test_datagen=ImageDataGenerator (rescale=1. /255)\n",
    "\n",
    "\n",
    "train_generator =train_datagen.flow_from_directory(train_data_dir,\n",
    "                                                   target_size =(img_width,img_height),\n",
    "                                                   batch_size=batch_size,\n",
    "                                                   class_mode='binary',\n",
    "                                                   classes=['cats','dogs'])\n",
    "\n",
    "validation_generator =test_datagen.flow_from_directory(test_data_dir,\n",
    "                                                 target_size =(img_width,img_height), \n",
    "                                                 batch_size=batch_size,\n",
    "                                                 class_mode='binary')"
   ]
  },
  {
   "cell_type": "markdown",
   "id": "66003296",
   "metadata": {
    "id": "Jbaz5we1cj5p"
   },
   "source": [
    "**CNN Model**"
   ]
  },
  {
   "cell_type": "code",
   "execution_count": 48,
   "id": "265f6e23",
   "metadata": {
    "colab": {
     "base_uri": "https://localhost:8080/"
    },
    "id": "A9hqb44ETlCw",
    "outputId": "f1b71f08-6c41-4ab5-f2a2-2e42deb0cec3"
   },
   "outputs": [
    {
     "name": "stdout",
     "output_type": "stream",
     "text": [
      "Model: \"sequential_3\"\n",
      "_________________________________________________________________\n",
      " Layer (type)                Output Shape              Param #   \n",
      "=================================================================\n",
      " conv2d_11 (Conv2D)          (None, 148, 148, 32)      896       \n",
      "                                                                 \n",
      " activation_12 (Activation)  (None, 148, 148, 32)      0         \n",
      "                                                                 \n",
      " max_pooling2d_11 (MaxPooli  (None, 74, 74, 32)        0         \n",
      " ng2D)                                                           \n",
      "                                                                 \n",
      "=================================================================\n",
      "Total params: 896 (3.50 KB)\n",
      "Trainable params: 896 (3.50 KB)\n",
      "Non-trainable params: 0 (0.00 Byte)\n",
      "_________________________________________________________________\n"
     ]
    }
   ],
   "source": [
    "model = Sequential()\n",
    "model.add(Conv2D(32,(3,3),input_shape=input_shape))  \n",
    "#it is accompined by relu activation function and max pooling is added for helping me to get maximium pixel value\n",
    "model.add(Activation('relu'))\n",
    "model.add(MaxPooling2D(pool_size=(2,2)))\n",
    "model.summary()"
   ]
  },
  {
   "cell_type": "code",
   "execution_count": 49,
   "id": "fcd3989b",
   "metadata": {
    "colab": {
     "base_uri": "https://localhost:8080/"
    },
    "id": "qxkdeY-kTlC2",
    "outputId": "8c4e7697-b14f-4379-fa10-1f3dcf0d4a3b"
   },
   "outputs": [
    {
     "name": "stdout",
     "output_type": "stream",
     "text": [
      "Model: \"sequential_3\"\n",
      "_________________________________________________________________\n",
      " Layer (type)                Output Shape              Param #   \n",
      "=================================================================\n",
      " conv2d_11 (Conv2D)          (None, 148, 148, 32)      896       \n",
      "                                                                 \n",
      " activation_12 (Activation)  (None, 148, 148, 32)      0         \n",
      "                                                                 \n",
      " max_pooling2d_11 (MaxPooli  (None, 74, 74, 32)        0         \n",
      " ng2D)                                                           \n",
      "                                                                 \n",
      " conv2d_12 (Conv2D)          (None, 72, 72, 32)        9248      \n",
      "                                                                 \n",
      " activation_13 (Activation)  (None, 72, 72, 32)        0         \n",
      "                                                                 \n",
      " max_pooling2d_12 (MaxPooli  (None, 36, 36, 32)        0         \n",
      " ng2D)                                                           \n",
      "                                                                 \n",
      "=================================================================\n",
      "Total params: 10144 (39.62 KB)\n",
      "Trainable params: 10144 (39.62 KB)\n",
      "Non-trainable params: 0 (0.00 Byte)\n",
      "_________________________________________________________________\n"
     ]
    }
   ],
   "source": [
    "model.add(Conv2D(32,(3,3),input_shape=input_shape))\n",
    "model.add(Activation('relu'))\n",
    "model.add(MaxPooling2D(pool_size=(2,2)))\n",
    "model.summary()"
   ]
  },
  {
   "cell_type": "code",
   "execution_count": 50,
   "id": "a56850b2",
   "metadata": {
    "colab": {
     "base_uri": "https://localhost:8080/"
    },
    "id": "Kh65DAniTlC9",
    "outputId": "9fa63760-7c4e-4c05-f88d-fa8c2383f792"
   },
   "outputs": [
    {
     "name": "stdout",
     "output_type": "stream",
     "text": [
      "Model: \"sequential_3\"\n",
      "_________________________________________________________________\n",
      " Layer (type)                Output Shape              Param #   \n",
      "=================================================================\n",
      " conv2d_11 (Conv2D)          (None, 148, 148, 32)      896       \n",
      "                                                                 \n",
      " activation_12 (Activation)  (None, 148, 148, 32)      0         \n",
      "                                                                 \n",
      " max_pooling2d_11 (MaxPooli  (None, 74, 74, 32)        0         \n",
      " ng2D)                                                           \n",
      "                                                                 \n",
      " conv2d_12 (Conv2D)          (None, 72, 72, 32)        9248      \n",
      "                                                                 \n",
      " activation_13 (Activation)  (None, 72, 72, 32)        0         \n",
      "                                                                 \n",
      " max_pooling2d_12 (MaxPooli  (None, 36, 36, 32)        0         \n",
      " ng2D)                                                           \n",
      "                                                                 \n",
      " conv2d_13 (Conv2D)          (None, 34, 34, 64)        18496     \n",
      "                                                                 \n",
      " activation_14 (Activation)  (None, 34, 34, 64)        0         \n",
      "                                                                 \n",
      " max_pooling2d_13 (MaxPooli  (None, 17, 17, 64)        0         \n",
      " ng2D)                                                           \n",
      "                                                                 \n",
      "=================================================================\n",
      "Total params: 28640 (111.88 KB)\n",
      "Trainable params: 28640 (111.88 KB)\n",
      "Non-trainable params: 0 (0.00 Byte)\n",
      "_________________________________________________________________\n"
     ]
    }
   ],
   "source": [
    "model.add(Conv2D(64,(3,3),input_shape=input_shape))\n",
    "model.add(Activation('relu'))\n",
    "model.add(MaxPooling2D(pool_size=(2,2)))\n",
    "model.summary()\n"
   ]
  },
  {
   "cell_type": "code",
   "execution_count": 51,
   "id": "1e62c932",
   "metadata": {
    "colab": {
     "base_uri": "https://localhost:8080/"
    },
    "id": "63N4HX-qTlDD",
    "outputId": "e11ab36c-f3bd-415e-a676-9007473a3b20"
   },
   "outputs": [
    {
     "name": "stdout",
     "output_type": "stream",
     "text": [
      "Model: \"sequential_3\"\n",
      "_________________________________________________________________\n",
      " Layer (type)                Output Shape              Param #   \n",
      "=================================================================\n",
      " conv2d_11 (Conv2D)          (None, 148, 148, 32)      896       \n",
      "                                                                 \n",
      " activation_12 (Activation)  (None, 148, 148, 32)      0         \n",
      "                                                                 \n",
      " max_pooling2d_11 (MaxPooli  (None, 74, 74, 32)        0         \n",
      " ng2D)                                                           \n",
      "                                                                 \n",
      " conv2d_12 (Conv2D)          (None, 72, 72, 32)        9248      \n",
      "                                                                 \n",
      " activation_13 (Activation)  (None, 72, 72, 32)        0         \n",
      "                                                                 \n",
      " max_pooling2d_12 (MaxPooli  (None, 36, 36, 32)        0         \n",
      " ng2D)                                                           \n",
      "                                                                 \n",
      " conv2d_13 (Conv2D)          (None, 34, 34, 64)        18496     \n",
      "                                                                 \n",
      " activation_14 (Activation)  (None, 34, 34, 64)        0         \n",
      "                                                                 \n",
      " max_pooling2d_13 (MaxPooli  (None, 17, 17, 64)        0         \n",
      " ng2D)                                                           \n",
      "                                                                 \n",
      " conv2d_14 (Conv2D)          (None, 15, 15, 64)        36928     \n",
      "                                                                 \n",
      " activation_15 (Activation)  (None, 15, 15, 64)        0         \n",
      "                                                                 \n",
      " max_pooling2d_14 (MaxPooli  (None, 7, 7, 64)          0         \n",
      " ng2D)                                                           \n",
      "                                                                 \n",
      " flatten_3 (Flatten)         (None, 3136)              0         \n",
      "                                                                 \n",
      " dense_6 (Dense)             (None, 64)                200768    \n",
      "                                                                 \n",
      " activation_16 (Activation)  (None, 64)                0         \n",
      "                                                                 \n",
      " dropout_3 (Dropout)         (None, 64)                0         \n",
      "                                                                 \n",
      " dense_7 (Dense)             (None, 1)                 65        \n",
      "                                                                 \n",
      " activation_17 (Activation)  (None, 1)                 0         \n",
      "                                                                 \n",
      "=================================================================\n",
      "Total params: 266401 (1.02 MB)\n",
      "Trainable params: 266401 (1.02 MB)\n",
      "Non-trainable params: 0 (0.00 Byte)\n",
      "_________________________________________________________________\n"
     ]
    }
   ],
   "source": [
    "model.add(Conv2D(64,(3,3),input_shape=input_shape))\n",
    "model.add(Activation('relu'))\n",
    "model.add(MaxPooling2D(pool_size=(2,2)))\n",
    "\n",
    "model.add(Flatten())\n",
    "model.add(Dense(64))\n",
    "model.add(Activation('relu'))\n",
    "model.add(Dropout(0.5))  #this is to avoid the overfit\n",
    "model.add(Dense(1))      # final layer  has single neurons\n",
    "model.add(Activation('sigmoid'))\n",
    "model.summary()"
   ]
  },
  {
   "cell_type": "markdown",
   "id": "65e0ae4c",
   "metadata": {
    "id": "JZj5D2bZdxPR"
   },
   "source": [
    "**Compiling CNN Model**"
   ]
  },
  {
   "cell_type": "code",
   "execution_count": 52,
   "id": "a524573e",
   "metadata": {
    "colab": {
     "base_uri": "https://localhost:8080/"
    },
    "id": "vS4aIY_cTlDK",
    "outputId": "b1bfa02a-9b8b-4529-a04f-e15e1b1bf162"
   },
   "outputs": [
    {
     "name": "stdout",
     "output_type": "stream",
     "text": [
      "Model: \"sequential_3\"\n",
      "_________________________________________________________________\n",
      " Layer (type)                Output Shape              Param #   \n",
      "=================================================================\n",
      " conv2d_11 (Conv2D)          (None, 148, 148, 32)      896       \n",
      "                                                                 \n",
      " activation_12 (Activation)  (None, 148, 148, 32)      0         \n",
      "                                                                 \n",
      " max_pooling2d_11 (MaxPooli  (None, 74, 74, 32)        0         \n",
      " ng2D)                                                           \n",
      "                                                                 \n",
      " conv2d_12 (Conv2D)          (None, 72, 72, 32)        9248      \n",
      "                                                                 \n",
      " activation_13 (Activation)  (None, 72, 72, 32)        0         \n",
      "                                                                 \n",
      " max_pooling2d_12 (MaxPooli  (None, 36, 36, 32)        0         \n",
      " ng2D)                                                           \n",
      "                                                                 \n",
      " conv2d_13 (Conv2D)          (None, 34, 34, 64)        18496     \n",
      "                                                                 \n",
      " activation_14 (Activation)  (None, 34, 34, 64)        0         \n",
      "                                                                 \n",
      " max_pooling2d_13 (MaxPooli  (None, 17, 17, 64)        0         \n",
      " ng2D)                                                           \n",
      "                                                                 \n",
      " conv2d_14 (Conv2D)          (None, 15, 15, 64)        36928     \n",
      "                                                                 \n",
      " activation_15 (Activation)  (None, 15, 15, 64)        0         \n",
      "                                                                 \n",
      " max_pooling2d_14 (MaxPooli  (None, 7, 7, 64)          0         \n",
      " ng2D)                                                           \n",
      "                                                                 \n",
      " flatten_3 (Flatten)         (None, 3136)              0         \n",
      "                                                                 \n",
      " dense_6 (Dense)             (None, 64)                200768    \n",
      "                                                                 \n",
      " activation_16 (Activation)  (None, 64)                0         \n",
      "                                                                 \n",
      " dropout_3 (Dropout)         (None, 64)                0         \n",
      "                                                                 \n",
      " dense_7 (Dense)             (None, 1)                 65        \n",
      "                                                                 \n",
      " activation_17 (Activation)  (None, 1)                 0         \n",
      "                                                                 \n",
      "=================================================================\n",
      "Total params: 266401 (1.02 MB)\n",
      "Trainable params: 266401 (1.02 MB)\n",
      "Non-trainable params: 0 (0.00 Byte)\n",
      "_________________________________________________________________\n"
     ]
    }
   ],
   "source": [
    "model.compile(optimizer='rmsprop',  #larning rate for avoding exploding gradient problems\n",
    "              loss='binary_crossentropy',\n",
    "              metrics=['accuracy'])\n",
    "model.summary()"
   ]
  },
  {
   "cell_type": "markdown",
   "id": "0c29d5f8",
   "metadata": {
    "id": "4OkD0A71d5re"
   },
   "source": [
    "**Fitting CNN Model**"
   ]
  },
  {
   "cell_type": "code",
   "execution_count": 53,
   "id": "6c32cf69",
   "metadata": {
    "colab": {
     "base_uri": "https://localhost:8080/"
    },
    "id": "oXJDr0kPTlDQ",
    "outputId": "a7b852c7-ac6e-4282-9ad7-742ed09d8e36"
   },
   "outputs": [
    {
     "name": "stdout",
     "output_type": "stream",
     "text": [
      "Epoch 1/20\n",
      "WARNING:tensorflow:From C:\\Users\\victo\\miniconda3\\Lib\\site-packages\\keras\\src\\utils\\tf_utils.py:492: The name tf.ragged.RaggedTensorValue is deprecated. Please use tf.compat.v1.ragged.RaggedTensorValue instead.\n",
      "\n",
      "WARNING:tensorflow:From C:\\Users\\victo\\miniconda3\\Lib\\site-packages\\keras\\src\\engine\\base_layer_utils.py:384: The name tf.executing_eagerly_outside_functions is deprecated. Please use tf.compat.v1.executing_eagerly_outside_functions instead.\n",
      "\n",
      "100/100 [==============================] - ETA: 0s - loss: 0.6964 - accuracy: 0.5315WARNING:tensorflow:Your input ran out of data; interrupting training. Make sure that your dataset or generator can generate at least `steps_per_epoch * epochs` batches (in this case, 100 batches). You may need to use the repeat() function when building your dataset.\n",
      "100/100 [==============================] - 57s 543ms/step - loss: 0.6964 - accuracy: 0.5315 - val_loss: 0.7052 - val_accuracy: 0.1953\n",
      "Epoch 2/20\n",
      "100/100 [==============================] - 40s 397ms/step - loss: 0.6854 - accuracy: 0.5657\n",
      "Epoch 3/20\n",
      "100/100 [==============================] - 34s 339ms/step - loss: 0.6798 - accuracy: 0.5885\n",
      "Epoch 4/20\n",
      "100/100 [==============================] - 32s 318ms/step - loss: 0.6423 - accuracy: 0.6370\n",
      "Epoch 5/20\n",
      "100/100 [==============================] - 31s 312ms/step - loss: 0.6317 - accuracy: 0.6630\n",
      "Epoch 6/20\n",
      "100/100 [==============================] - 30s 303ms/step - loss: 0.5877 - accuracy: 0.6745\n",
      "Epoch 7/20\n",
      "100/100 [==============================] - 31s 305ms/step - loss: 0.5907 - accuracy: 0.6895\n",
      "Epoch 8/20\n",
      "100/100 [==============================] - 29s 286ms/step - loss: 0.5914 - accuracy: 0.6895\n",
      "Epoch 9/20\n",
      "100/100 [==============================] - 28s 283ms/step - loss: 0.5538 - accuracy: 0.7165\n",
      "Epoch 10/20\n",
      "100/100 [==============================] - 27s 273ms/step - loss: 0.5750 - accuracy: 0.7118\n",
      "Epoch 11/20\n",
      "100/100 [==============================] - 28s 279ms/step - loss: 0.5484 - accuracy: 0.7285\n",
      "Epoch 12/20\n",
      "100/100 [==============================] - 29s 293ms/step - loss: 0.5381 - accuracy: 0.7355\n",
      "Epoch 13/20\n",
      "100/100 [==============================] - 31s 311ms/step - loss: 0.5386 - accuracy: 0.7340\n",
      "Epoch 14/20\n",
      "100/100 [==============================] - 29s 293ms/step - loss: 0.5096 - accuracy: 0.7535\n",
      "Epoch 15/20\n",
      "100/100 [==============================] - 27s 269ms/step - loss: 0.4978 - accuracy: 0.7620\n",
      "Epoch 16/20\n",
      "100/100 [==============================] - 27s 265ms/step - loss: 0.5233 - accuracy: 0.7500\n",
      "Epoch 17/20\n",
      "100/100 [==============================] - 29s 295ms/step - loss: 0.5026 - accuracy: 0.7635\n",
      "Epoch 18/20\n",
      "100/100 [==============================] - 30s 301ms/step - loss: 0.4809 - accuracy: 0.7725\n",
      "Epoch 19/20\n",
      "100/100 [==============================] - 28s 277ms/step - loss: 0.4754 - accuracy: 0.7785\n",
      "Epoch 20/20\n",
      "100/100 [==============================] - 27s 272ms/step - loss: 0.4900 - accuracy: 0.7645\n"
     ]
    },
    {
     "data": {
      "text/plain": [
       "<keras.src.callbacks.History at 0x1e313113fd0>"
      ]
     },
     "execution_count": 53,
     "metadata": {},
     "output_type": "execute_result"
    }
   ],
   "source": [
    "model.fit(train_generator,\n",
    "                   steps_per_epoch=nb_train_sample,epochs=epochs,\n",
    "                   validation_data=validation_generator,\n",
    "                       validation_steps=nb_validation_samples)"
   ]
  },
  {
   "cell_type": "markdown",
   "id": "bddb6014",
   "metadata": {
    "id": "i8Eqn-Y7d_Bv"
   },
   "source": [
    "**Prediction**"
   ]
  },
  {
   "cell_type": "code",
   "execution_count": 54,
   "id": "4fdb84a4",
   "metadata": {
    "colab": {
     "base_uri": "https://localhost:8080/"
    },
    "id": "xgDYfffTTlDW",
    "outputId": "e0394af2-9950-4e69-ff0e-51b6d291a423"
   },
   "outputs": [
    {
     "name": "stdout",
     "output_type": "stream",
     "text": [
      "Requirement already satisfied: pipwin in c:\\users\\victo\\miniconda3\\lib\\site-packages (0.5.2)\n",
      "Requirement already satisfied: docopt in c:\\users\\victo\\miniconda3\\lib\\site-packages (from pipwin) (0.6.2)\n",
      "Requirement already satisfied: requests in c:\\users\\victo\\miniconda3\\lib\\site-packages (from pipwin) (2.31.0)\n",
      "Requirement already satisfied: pyprind in c:\\users\\victo\\miniconda3\\lib\\site-packages (from pipwin) (2.11.3)\n",
      "Requirement already satisfied: six in c:\\users\\victo\\miniconda3\\lib\\site-packages (from pipwin) (1.16.0)\n",
      "Requirement already satisfied: beautifulsoup4>=4.9.0 in c:\\users\\victo\\miniconda3\\lib\\site-packages (from pipwin) (4.12.2)\n",
      "Requirement already satisfied: js2py in c:\\users\\victo\\miniconda3\\lib\\site-packages (from pipwin) (0.74)\n",
      "Requirement already satisfied: packaging in c:\\users\\victo\\miniconda3\\lib\\site-packages (from pipwin) (23.1)\n",
      "Requirement already satisfied: pySmartDL>=1.3.1 in c:\\users\\victo\\miniconda3\\lib\\site-packages (from pipwin) (1.3.4)\n",
      "Requirement already satisfied: soupsieve>1.2 in c:\\users\\victo\\miniconda3\\lib\\site-packages (from beautifulsoup4>=4.9.0->pipwin) (2.5)\n",
      "Requirement already satisfied: tzlocal>=1.2 in c:\\users\\victo\\miniconda3\\lib\\site-packages (from js2py->pipwin) (5.2)\n",
      "Requirement already satisfied: pyjsparser>=2.5.1 in c:\\users\\victo\\miniconda3\\lib\\site-packages (from js2py->pipwin) (2.7.1)\n",
      "Requirement already satisfied: charset-normalizer<4,>=2 in c:\\users\\victo\\miniconda3\\lib\\site-packages (from requests->pipwin) (2.0.4)\n",
      "Requirement already satisfied: idna<4,>=2.5 in c:\\users\\victo\\miniconda3\\lib\\site-packages (from requests->pipwin) (3.4)\n",
      "Requirement already satisfied: urllib3<3,>=1.21.1 in c:\\users\\victo\\miniconda3\\lib\\site-packages (from requests->pipwin) (1.26.16)\n",
      "Requirement already satisfied: certifi>=2017.4.17 in c:\\users\\victo\\miniconda3\\lib\\site-packages (from requests->pipwin) (2023.7.22)\n",
      "Requirement already satisfied: tzdata in c:\\users\\victo\\miniconda3\\lib\\site-packages (from tzlocal>=1.2->js2py->pipwin) (2023.3)\n"
     ]
    }
   ],
   "source": [
    "!pip install pipwin\n",
    "#!pipwin install jsonlib"
   ]
  },
  {
   "cell_type": "code",
   "execution_count": 55,
   "id": "d93142db",
   "metadata": {
    "colab": {
     "base_uri": "https://localhost:8080/"
    },
    "id": "z11nc7GZntme",
    "outputId": "5b561b28-52fa-401b-ffcc-c1423ff027bd"
   },
   "outputs": [
    {
     "name": "stdout",
     "output_type": "stream",
     "text": [
      "Collecting jsonlib-python3\n",
      "  Using cached jsonlib-python3-1.6.1.tar.gz (43 kB)\n",
      "  Preparing metadata (setup.py): started\n",
      "  Preparing metadata (setup.py): finished with status 'done'\n",
      "Building wheels for collected packages: jsonlib-python3\n",
      "  Building wheel for jsonlib-python3 (setup.py): started\n",
      "  Building wheel for jsonlib-python3 (setup.py): finished with status 'error'\n",
      "  Running setup.py clean for jsonlib-python3\n",
      "Failed to build jsonlib-python3\n"
     ]
    },
    {
     "name": "stderr",
     "output_type": "stream",
     "text": [
      "  error: subprocess-exited-with-error\n",
      "  \n",
      "  python setup.py bdist_wheel did not run successfully.\n",
      "  exit code: 1\n",
      "  \n",
      "  [1 lines of output]\n",
      "  error: Microsoft Visual C++ 14.0 or greater is required. Get it with \"Microsoft C++ Build Tools\": https://visualstudio.microsoft.com/visual-cpp-build-tools/\n",
      "  [end of output]\n",
      "  \n",
      "  note: This error originates from a subprocess, and is likely not a problem with pip.\n",
      "  ERROR: Failed building wheel for jsonlib-python3\n",
      "ERROR: Could not build wheels for jsonlib-python3, which is required to install pyproject.toml-based projects\n"
     ]
    }
   ],
   "source": [
    "!pip install jsonlib-python3"
   ]
  },
  {
   "cell_type": "code",
   "execution_count": 58,
   "id": "83511e73",
   "metadata": {
    "colab": {
     "base_uri": "https://localhost:8080/"
    },
    "id": "T59LOXa2TlDd",
    "outputId": "3caf792d-e4ce-4371-89ef-f31a9bfdc949"
   },
   "outputs": [
    {
     "name": "stdout",
     "output_type": "stream",
     "text": [
      "[INFO] Saved model to disk\n",
      "1/1 [==============================] - 0s 330ms/step\n",
      "[[1.]]\n",
      "Prediction:  cat\n"
     ]
    }
   ],
   "source": [
    "import json\n",
    "import numpy as np\n",
    "\n",
    "# serialize model to JSON   #storing model to external files\n",
    "model_json_1 = model.to_json()\n",
    "\n",
    "with open(\"model.json\", \"w\") as json_file:\n",
    "    json_file.write(model_json_1)\n",
    "\n",
    "model.save_weights('first_try1.h5')\n",
    "print(\"[INFO] Saved model to disk\")\n",
    "\n",
    "\n",
    "img_pred = image.load_img(r\"C:\\Users\\victo\\Downloads\\test_set (2)\\test_set\\test_set\\cats\\cat.4977.jpg\",target_size=(150,150))\n",
    "\n",
    "img_pred=image.img_to_array(img_pred)\n",
    "img_pred=np.expand_dims(img_pred, axis=0)\n",
    "\n",
    "result = model.predict(img_pred)\n",
    "print(result)\n",
    "if result[0][0]==1:\n",
    "    prediction =\"cat\"\n",
    "else:\n",
    "    prediction =\"dog\"\n",
    "print('Prediction: ',prediction)\n"
   ]
  },
  {
   "cell_type": "markdown",
   "id": "c9b47532",
   "metadata": {
    "id": "DSXuQF7gMgSF"
   },
   "source": [
    "**Conclusion:** The image is predicted and has been identified as a cat or a dog"
   ]
  },
  {
   "cell_type": "code",
   "execution_count": null,
   "id": "3f170e6f",
   "metadata": {
    "id": "zFsPOjSFnP5C"
   },
   "outputs": [],
   "source": []
  }
 ],
 "metadata": {
  "kernelspec": {
   "display_name": "Python 3 (ipykernel)",
   "language": "python",
   "name": "python3"
  },
  "language_info": {
   "codemirror_mode": {
    "name": "ipython",
    "version": 3
   },
   "file_extension": ".py",
   "mimetype": "text/x-python",
   "name": "python",
   "nbconvert_exporter": "python",
   "pygments_lexer": "ipython3",
   "version": "3.11.5"
  }
 },
 "nbformat": 4,
 "nbformat_minor": 5
}
